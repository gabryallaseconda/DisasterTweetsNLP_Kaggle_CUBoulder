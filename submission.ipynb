{
 "cells": [
  {
   "cell_type": "markdown",
   "metadata": {},
   "source": [
    "# NLP with Disaster Tweets\n",
    "\n",
    "Git repository: https://github.com/gabryallaseconda/DisasterTweetsNLP_Kaggle_CUBoulder\n",
    "\n",
    "**Summary:**\n",
    "The data preprocessing for the text classification project surpassed standard practices, incorporating an extensive process. Beyond normalization and data augmentation, the learner implemented spell correction to enhance the quality of the textual data. Additionally, missing data was filled through a meticulous procedure, ensuring a comprehensive dataset. Geographic entities handling was integrated into the preprocessing pipeline, showcasing a commitment to handling diverse text features. The plan of analysis, rooted in exploratory data analysis (EDA), was enriched with these advanced preprocessing steps, contributing to a more robust understanding of the data.\n",
    "\n",
    "The chosen model architecture for text embedding was DistillBERT, recognized for its efficiency and effectiveness in distillation. DistillBERT was favored over other transformer models, such as GPT-3 and T5, due to its compact nature while maintaining competitive performance. In parallel, a pretrained model from TensorFlow Hub (model = \"https://tfhub.dev/google/nnlm-en-dim50/2\") was employed, offering a strong foundation for the project. The learner provided inventive details, specifying the number of layers in the model architecture and outlining metrics for selection, showcasing a nuanced approach to model design.\n",
    "\n",
    "The learner addressed aspects that didn't work, providing valuable insights into potential limitations and challenges, including the complexities of preprocessing. Furthermore, forward-thinking suggestions for improvement were presented, highlighting the learner's strategic approach to refining the model or exploring alternative methodologies. Overall, the model had good performances."
   ]
  },
  {
   "cell_type": "code",
   "execution_count": 1,
   "metadata": {},
   "outputs": [
    {
     "name": "stderr",
     "output_type": "stream",
     "text": [
      "/Users/gabrielegabrielli/Documents/NN/Kaggle_DisasterTweets/env/lib/python3.11/site-packages/tqdm/auto.py:21: TqdmWarning: IProgress not found. Please update jupyter and ipywidgets. See https://ipywidgets.readthedocs.io/en/stable/user_install.html\n",
      "  from .autonotebook import tqdm as notebook_tqdm\n"
     ]
    }
   ],
   "source": [
    "\n",
    "import re, string, os\n",
    "\n",
    "import pandas as pd\n",
    "import numpy as np\n",
    "\n",
    "\n",
    "import matplotlib.pyplot as plt\n"
   ]
  },
  {
   "cell_type": "markdown",
   "metadata": {},
   "source": [
    "## Importing data"
   ]
  },
  {
   "cell_type": "code",
   "execution_count": 2,
   "metadata": {},
   "outputs": [],
   "source": [
    "train = pd.read_csv('nlp-getting-started/train.csv')\n",
    "test = pd.read_csv('nlp-getting-started/test.csv')\n"
   ]
  },
  {
   "cell_type": "markdown",
   "metadata": {},
   "source": [
    "## EDA"
   ]
  },
  {
   "cell_type": "code",
   "execution_count": 3,
   "metadata": {},
   "outputs": [
    {
     "data": {
      "text/html": [
       "<div>\n",
       "<style scoped>\n",
       "    .dataframe tbody tr th:only-of-type {\n",
       "        vertical-align: middle;\n",
       "    }\n",
       "\n",
       "    .dataframe tbody tr th {\n",
       "        vertical-align: top;\n",
       "    }\n",
       "\n",
       "    .dataframe thead th {\n",
       "        text-align: right;\n",
       "    }\n",
       "</style>\n",
       "<table border=\"1\" class=\"dataframe\">\n",
       "  <thead>\n",
       "    <tr style=\"text-align: right;\">\n",
       "      <th></th>\n",
       "      <th>id</th>\n",
       "      <th>keyword</th>\n",
       "      <th>location</th>\n",
       "      <th>text</th>\n",
       "      <th>target</th>\n",
       "    </tr>\n",
       "  </thead>\n",
       "  <tbody>\n",
       "    <tr>\n",
       "      <th>2380</th>\n",
       "      <td>3421</td>\n",
       "      <td>derail</td>\n",
       "      <td>Road to the Billionaires Club</td>\n",
       "      <td>@TheJenMorillo GM! I pray any attack of the en...</td>\n",
       "      <td>0</td>\n",
       "    </tr>\n",
       "    <tr>\n",
       "      <th>4300</th>\n",
       "      <td>6106</td>\n",
       "      <td>hellfire</td>\n",
       "      <td>Right next to Compton</td>\n",
       "      <td>@IAN_Hellfire I got it for the mistake but bos...</td>\n",
       "      <td>0</td>\n",
       "    </tr>\n",
       "    <tr>\n",
       "      <th>4689</th>\n",
       "      <td>6665</td>\n",
       "      <td>landslide</td>\n",
       "      <td>USA</td>\n",
       "      <td>Speaking of memorable debates: 60-Second Know-...</td>\n",
       "      <td>0</td>\n",
       "    </tr>\n",
       "    <tr>\n",
       "      <th>6161</th>\n",
       "      <td>8787</td>\n",
       "      <td>siren</td>\n",
       "      <td>NaN</td>\n",
       "      <td>I hate this damn Milwaukee IndyFest. All the c...</td>\n",
       "      <td>0</td>\n",
       "    </tr>\n",
       "    <tr>\n",
       "      <th>7315</th>\n",
       "      <td>10470</td>\n",
       "      <td>wild%20fires</td>\n",
       "      <td>NaN</td>\n",
       "      <td>@aria_ahrary @TheTawniest The out of control w...</td>\n",
       "      <td>1</td>\n",
       "    </tr>\n",
       "  </tbody>\n",
       "</table>\n",
       "</div>"
      ],
      "text/plain": [
       "         id       keyword                        location  \\\n",
       "2380   3421        derail   Road to the Billionaires Club   \n",
       "4300   6106      hellfire           Right next to Compton   \n",
       "4689   6665     landslide                             USA   \n",
       "6161   8787         siren                             NaN   \n",
       "7315  10470  wild%20fires                             NaN   \n",
       "\n",
       "                                                   text  target  \n",
       "2380  @TheJenMorillo GM! I pray any attack of the en...       0  \n",
       "4300  @IAN_Hellfire I got it for the mistake but bos...       0  \n",
       "4689  Speaking of memorable debates: 60-Second Know-...       0  \n",
       "6161  I hate this damn Milwaukee IndyFest. All the c...       0  \n",
       "7315  @aria_ahrary @TheTawniest The out of control w...       1  "
      ]
     },
     "execution_count": 3,
     "metadata": {},
     "output_type": "execute_result"
    }
   ],
   "source": [
    "train.sample(5)\n"
   ]
  },
  {
   "cell_type": "code",
   "execution_count": 4,
   "metadata": {},
   "outputs": [
    {
     "data": {
      "text/plain": [
       "(7613, 5)"
      ]
     },
     "execution_count": 4,
     "metadata": {},
     "output_type": "execute_result"
    }
   ],
   "source": [
    "train.shape"
   ]
  },
  {
   "cell_type": "code",
   "execution_count": 5,
   "metadata": {},
   "outputs": [
    {
     "data": {
      "text/plain": [
       "<Axes: >"
      ]
     },
     "execution_count": 5,
     "metadata": {},
     "output_type": "execute_result"
    },
    {
     "data": {
      "image/png": "[encoded data removed]",
      "text/plain": [
       "<Figure size 640x480 with 1 Axes>"
      ]
     },
     "metadata": {},
     "output_type": "display_data"
    }
   ],
   "source": [
    "train.target.hist()"
   ]
  },
  {
   "cell_type": "code",
   "execution_count": 6,
   "metadata": {},
   "outputs": [
    {
     "data": {
      "image/png": "[encoded data removed]",
      "text/plain": [
       "<Figure size 640x480 with 1 Axes>"
      ]
     },
     "metadata": {},
     "output_type": "display_data"
    }
   ],
   "source": [
    "# Character in each row - histogram\n",
    "\n",
    "# Aggiungi una nuova colonna che contiene il numero di caratteri in ogni testo\n",
    "data = train['text'].apply(len)\n",
    "\n",
    "# Plotta l'istogramma\n",
    "plt.hist(data, bins=20, edgecolor='black')  # Puoi regolare il numero di bin secondo le tue esigenze\n",
    "plt.title('Number of character in text fields')\n",
    "plt.xlabel('Num characters')\n",
    "plt.ylabel('Frequency')\n",
    "plt.show()"
   ]
  },
  {
   "cell_type": "markdown",
   "metadata": {},
   "source": [
    "## Prediction\n",
    "Histogram of the predictions"
   ]
  },
  {
   "cell_type": "code",
   "execution_count": 34,
   "metadata": {},
   "outputs": [
    {
     "data": {
      "text/plain": [
       "<Axes: >"
      ]
     },
     "execution_count": 34,
     "metadata": {},
     "output_type": "execute_result"
    },
    {
     "data": {
      "image/png": "[encoded data removed]",
      "text/plain": [
       "<Figure size 640x480 with 1 Axes>"
      ]
     },
     "metadata": {},
     "output_type": "display_data"
    }
   ],
   "source": [
    "test.target.hist()"
   ]
  },
  {
   "cell_type": "code",
   "execution_count": null,
   "metadata": {},
   "outputs": [],
   "source": []
  }
 ],
 "metadata": {
  "kernelspec": {
   "display_name": "neural-networks-_F4AaA2c-py3.10",
   "language": "python",
   "name": "python3"
  },
  "language_info": {
   "codemirror_mode": {
    "name": "ipython",
    "version": 3
   },
   "file_extension": ".py",
   "mimetype": "text/x-python",
   "name": "python",
   "nbconvert_exporter": "python",
   "pygments_lexer": "ipython3",
   "version": "3.11.7"
  }
 },
 "nbformat": 4,
 "nbformat_minor": 2
}
